{
 "cells": [
  {
   "cell_type": "code",
   "execution_count": 1,
   "id": "9b508a13-2f98-4819-8b83-d341fccd319f",
   "metadata": {},
   "outputs": [],
   "source": [
    "import numpy as np\n",
    "import pandas as pd\n",
    "import matplotlib.pyplot as plt"
   ]
  },
  {
   "cell_type": "code",
   "execution_count": 3,
   "id": "38a87119-6804-4b95-9bf4-3a152f675ece",
   "metadata": {},
   "outputs": [
    {
     "name": "stdout",
     "output_type": "stream",
     "text": [
      "Collecting quandl\n",
      "  Downloading Quandl-3.7.0-py2.py3-none-any.whl.metadata (1.3 kB)\n",
      "Requirement already satisfied: pandas>=0.14 in c:\\anaconda\\lib\\site-packages (from quandl) (2.2.2)\n",
      "Requirement already satisfied: numpy>=1.8 in c:\\anaconda\\lib\\site-packages (from quandl) (1.26.4)\n",
      "Requirement already satisfied: requests>=2.7.0 in c:\\anaconda\\lib\\site-packages (from quandl) (2.31.0)\n",
      "Requirement already satisfied: inflection>=0.3.1 in c:\\anaconda\\lib\\site-packages (from quandl) (0.5.1)\n",
      "Requirement already satisfied: python-dateutil in c:\\anaconda\\lib\\site-packages (from quandl) (2.8.2)\n",
      "Requirement already satisfied: six in c:\\anaconda\\lib\\site-packages (from quandl) (1.16.0)\n",
      "Requirement already satisfied: more-itertools in c:\\anaconda\\lib\\site-packages (from quandl) (10.1.0)\n",
      "Requirement already satisfied: pytz>=2020.1 in c:\\anaconda\\lib\\site-packages (from pandas>=0.14->quandl) (2023.3.post1)\n",
      "Requirement already satisfied: tzdata>=2022.7 in c:\\anaconda\\lib\\site-packages (from pandas>=0.14->quandl) (2023.3)\n",
      "Requirement already satisfied: charset-normalizer<4,>=2 in c:\\anaconda\\lib\\site-packages (from requests>=2.7.0->quandl) (2.0.4)\n",
      "Requirement already satisfied: idna<4,>=2.5 in c:\\anaconda\\lib\\site-packages (from requests>=2.7.0->quandl) (3.4)\n",
      "Requirement already satisfied: urllib3<3,>=1.21.1 in c:\\anaconda\\lib\\site-packages (from requests>=2.7.0->quandl) (2.0.7)\n",
      "Requirement already satisfied: certifi>=2017.4.17 in c:\\anaconda\\lib\\site-packages (from requests>=2.7.0->quandl) (2024.2.2)\n",
      "Downloading Quandl-3.7.0-py2.py3-none-any.whl (26 kB)\n",
      "Installing collected packages: quandl\n",
      "Successfully installed quandl-3.7.0\n"
     ]
    }
   ],
   "source": [
    "!pip install quandl\n",
    "import quandl"
   ]
  },
  {
   "cell_type": "code",
   "execution_count": 10,
   "id": "7f38164f-46b6-497c-b9e7-69fac6a29cb9",
   "metadata": {},
   "outputs": [],
   "source": [
    "df=quandl.get('NSE/MRF')"
   ]
  },
  {
   "cell_type": "code",
   "execution_count": 11,
   "id": "2052387a-a3c0-4803-ad0c-affe9b6f7a7d",
   "metadata": {},
   "outputs": [
    {
     "data": {
      "text/html": [
       "<div>\n",
       "<style scoped>\n",
       "    .dataframe tbody tr th:only-of-type {\n",
       "        vertical-align: middle;\n",
       "    }\n",
       "\n",
       "    .dataframe tbody tr th {\n",
       "        vertical-align: top;\n",
       "    }\n",
       "\n",
       "    .dataframe thead th {\n",
       "        text-align: right;\n",
       "    }\n",
       "</style>\n",
       "<table border=\"1\" class=\"dataframe\">\n",
       "  <thead>\n",
       "    <tr style=\"text-align: right;\">\n",
       "      <th></th>\n",
       "      <th>Open</th>\n",
       "      <th>High</th>\n",
       "      <th>Low</th>\n",
       "      <th>Last</th>\n",
       "      <th>Close</th>\n",
       "      <th>Total Trade Quantity</th>\n",
       "      <th>Turnover (Lacs)</th>\n",
       "    </tr>\n",
       "    <tr>\n",
       "      <th>Date</th>\n",
       "      <th></th>\n",
       "      <th></th>\n",
       "      <th></th>\n",
       "      <th></th>\n",
       "      <th></th>\n",
       "      <th></th>\n",
       "      <th></th>\n",
       "    </tr>\n",
       "  </thead>\n",
       "  <tbody>\n",
       "    <tr>\n",
       "      <th>1998-03-20</th>\n",
       "      <td>1840.0</td>\n",
       "      <td>1940.0</td>\n",
       "      <td>1840.0</td>\n",
       "      <td>NaN</td>\n",
       "      <td>NaN</td>\n",
       "      <td>NaN</td>\n",
       "      <td>NaN</td>\n",
       "    </tr>\n",
       "    <tr>\n",
       "      <th>1998-03-24</th>\n",
       "      <td>1950.0</td>\n",
       "      <td>2025.0</td>\n",
       "      <td>1950.0</td>\n",
       "      <td>2000.0</td>\n",
       "      <td>2000.0</td>\n",
       "      <td>650.0</td>\n",
       "      <td>12.85</td>\n",
       "    </tr>\n",
       "    <tr>\n",
       "      <th>1998-03-25</th>\n",
       "      <td>2100.0</td>\n",
       "      <td>2100.0</td>\n",
       "      <td>2100.0</td>\n",
       "      <td>2100.0</td>\n",
       "      <td>2100.0</td>\n",
       "      <td>50.0</td>\n",
       "      <td>1.05</td>\n",
       "    </tr>\n",
       "    <tr>\n",
       "      <th>1998-03-26</th>\n",
       "      <td>2125.0</td>\n",
       "      <td>2150.0</td>\n",
       "      <td>2055.0</td>\n",
       "      <td>2055.0</td>\n",
       "      <td>2055.0</td>\n",
       "      <td>250.0</td>\n",
       "      <td>5.28</td>\n",
       "    </tr>\n",
       "    <tr>\n",
       "      <th>1998-03-27</th>\n",
       "      <td>2020.0</td>\n",
       "      <td>2040.0</td>\n",
       "      <td>2020.0</td>\n",
       "      <td>2040.0</td>\n",
       "      <td>2040.0</td>\n",
       "      <td>150.0</td>\n",
       "      <td>3.05</td>\n",
       "    </tr>\n",
       "  </tbody>\n",
       "</table>\n",
       "</div>"
      ],
      "text/plain": [
       "              Open    High     Low    Last   Close  Total Trade Quantity  \\\n",
       "Date                                                                       \n",
       "1998-03-20  1840.0  1940.0  1840.0     NaN     NaN                   NaN   \n",
       "1998-03-24  1950.0  2025.0  1950.0  2000.0  2000.0                 650.0   \n",
       "1998-03-25  2100.0  2100.0  2100.0  2100.0  2100.0                  50.0   \n",
       "1998-03-26  2125.0  2150.0  2055.0  2055.0  2055.0                 250.0   \n",
       "1998-03-27  2020.0  2040.0  2020.0  2040.0  2040.0                 150.0   \n",
       "\n",
       "            Turnover (Lacs)  \n",
       "Date                         \n",
       "1998-03-20              NaN  \n",
       "1998-03-24            12.85  \n",
       "1998-03-25             1.05  \n",
       "1998-03-26             5.28  \n",
       "1998-03-27             3.05  "
      ]
     },
     "execution_count": 11,
     "metadata": {},
     "output_type": "execute_result"
    }
   ],
   "source": [
    "df.head()"
   ]
  },
  {
   "cell_type": "code",
   "execution_count": 12,
   "id": "ea294a8e-23d1-4260-8df1-93b323a8fa5b",
   "metadata": {},
   "outputs": [
    {
     "data": {
      "text/html": [
       "<div>\n",
       "<style scoped>\n",
       "    .dataframe tbody tr th:only-of-type {\n",
       "        vertical-align: middle;\n",
       "    }\n",
       "\n",
       "    .dataframe tbody tr th {\n",
       "        vertical-align: top;\n",
       "    }\n",
       "\n",
       "    .dataframe thead th {\n",
       "        text-align: right;\n",
       "    }\n",
       "</style>\n",
       "<table border=\"1\" class=\"dataframe\">\n",
       "  <thead>\n",
       "    <tr style=\"text-align: right;\">\n",
       "      <th></th>\n",
       "      <th>Open</th>\n",
       "      <th>High</th>\n",
       "      <th>Low</th>\n",
       "      <th>Last</th>\n",
       "      <th>Close</th>\n",
       "      <th>Total Trade Quantity</th>\n",
       "      <th>Turnover (Lacs)</th>\n",
       "    </tr>\n",
       "    <tr>\n",
       "      <th>Date</th>\n",
       "      <th></th>\n",
       "      <th></th>\n",
       "      <th></th>\n",
       "      <th></th>\n",
       "      <th></th>\n",
       "      <th></th>\n",
       "      <th></th>\n",
       "    </tr>\n",
       "  </thead>\n",
       "  <tbody>\n",
       "    <tr>\n",
       "      <th>1998-03-20</th>\n",
       "      <td>1840.0</td>\n",
       "      <td>1940.0</td>\n",
       "      <td>1840.00</td>\n",
       "      <td>NaN</td>\n",
       "      <td>NaN</td>\n",
       "      <td>NaN</td>\n",
       "      <td>NaN</td>\n",
       "    </tr>\n",
       "    <tr>\n",
       "      <th>1998-03-24</th>\n",
       "      <td>1950.0</td>\n",
       "      <td>2025.0</td>\n",
       "      <td>1950.00</td>\n",
       "      <td>2000.0</td>\n",
       "      <td>2000.00</td>\n",
       "      <td>650.0</td>\n",
       "      <td>12.85</td>\n",
       "    </tr>\n",
       "    <tr>\n",
       "      <th>1998-03-25</th>\n",
       "      <td>2100.0</td>\n",
       "      <td>2100.0</td>\n",
       "      <td>2100.00</td>\n",
       "      <td>2100.0</td>\n",
       "      <td>2100.00</td>\n",
       "      <td>50.0</td>\n",
       "      <td>1.05</td>\n",
       "    </tr>\n",
       "    <tr>\n",
       "      <th>1998-03-26</th>\n",
       "      <td>2125.0</td>\n",
       "      <td>2150.0</td>\n",
       "      <td>2055.00</td>\n",
       "      <td>2055.0</td>\n",
       "      <td>2055.00</td>\n",
       "      <td>250.0</td>\n",
       "      <td>5.28</td>\n",
       "    </tr>\n",
       "    <tr>\n",
       "      <th>1998-03-27</th>\n",
       "      <td>2020.0</td>\n",
       "      <td>2040.0</td>\n",
       "      <td>2020.00</td>\n",
       "      <td>2040.0</td>\n",
       "      <td>2040.00</td>\n",
       "      <td>150.0</td>\n",
       "      <td>3.05</td>\n",
       "    </tr>\n",
       "    <tr>\n",
       "      <th>...</th>\n",
       "      <td>...</td>\n",
       "      <td>...</td>\n",
       "      <td>...</td>\n",
       "      <td>...</td>\n",
       "      <td>...</td>\n",
       "      <td>...</td>\n",
       "      <td>...</td>\n",
       "    </tr>\n",
       "    <tr>\n",
       "      <th>2018-12-31</th>\n",
       "      <td>67550.0</td>\n",
       "      <td>67550.0</td>\n",
       "      <td>66812.40</td>\n",
       "      <td>66830.0</td>\n",
       "      <td>66984.70</td>\n",
       "      <td>5943.0</td>\n",
       "      <td>3984.95</td>\n",
       "    </tr>\n",
       "    <tr>\n",
       "      <th>2019-01-01</th>\n",
       "      <td>67299.0</td>\n",
       "      <td>67299.0</td>\n",
       "      <td>66500.35</td>\n",
       "      <td>66801.0</td>\n",
       "      <td>66801.20</td>\n",
       "      <td>4193.0</td>\n",
       "      <td>2797.59</td>\n",
       "    </tr>\n",
       "    <tr>\n",
       "      <th>2019-01-02</th>\n",
       "      <td>66500.0</td>\n",
       "      <td>67100.0</td>\n",
       "      <td>66150.70</td>\n",
       "      <td>66700.0</td>\n",
       "      <td>66635.50</td>\n",
       "      <td>7531.0</td>\n",
       "      <td>5013.96</td>\n",
       "    </tr>\n",
       "    <tr>\n",
       "      <th>2019-01-03</th>\n",
       "      <td>66750.0</td>\n",
       "      <td>67400.0</td>\n",
       "      <td>66458.70</td>\n",
       "      <td>67000.0</td>\n",
       "      <td>66818.25</td>\n",
       "      <td>4603.0</td>\n",
       "      <td>3079.01</td>\n",
       "    </tr>\n",
       "    <tr>\n",
       "      <th>2019-01-04</th>\n",
       "      <td>66999.7</td>\n",
       "      <td>67349.9</td>\n",
       "      <td>66201.05</td>\n",
       "      <td>66560.0</td>\n",
       "      <td>66603.15</td>\n",
       "      <td>4278.0</td>\n",
       "      <td>2856.64</td>\n",
       "    </tr>\n",
       "  </tbody>\n",
       "</table>\n",
       "<p>5153 rows × 7 columns</p>\n",
       "</div>"
      ],
      "text/plain": [
       "               Open     High       Low     Last     Close  \\\n",
       "Date                                                        \n",
       "1998-03-20   1840.0   1940.0   1840.00      NaN       NaN   \n",
       "1998-03-24   1950.0   2025.0   1950.00   2000.0   2000.00   \n",
       "1998-03-25   2100.0   2100.0   2100.00   2100.0   2100.00   \n",
       "1998-03-26   2125.0   2150.0   2055.00   2055.0   2055.00   \n",
       "1998-03-27   2020.0   2040.0   2020.00   2040.0   2040.00   \n",
       "...             ...      ...       ...      ...       ...   \n",
       "2018-12-31  67550.0  67550.0  66812.40  66830.0  66984.70   \n",
       "2019-01-01  67299.0  67299.0  66500.35  66801.0  66801.20   \n",
       "2019-01-02  66500.0  67100.0  66150.70  66700.0  66635.50   \n",
       "2019-01-03  66750.0  67400.0  66458.70  67000.0  66818.25   \n",
       "2019-01-04  66999.7  67349.9  66201.05  66560.0  66603.15   \n",
       "\n",
       "            Total Trade Quantity  Turnover (Lacs)  \n",
       "Date                                               \n",
       "1998-03-20                   NaN              NaN  \n",
       "1998-03-24                 650.0            12.85  \n",
       "1998-03-25                  50.0             1.05  \n",
       "1998-03-26                 250.0             5.28  \n",
       "1998-03-27                 150.0             3.05  \n",
       "...                          ...              ...  \n",
       "2018-12-31                5943.0          3984.95  \n",
       "2019-01-01                4193.0          2797.59  \n",
       "2019-01-02                7531.0          5013.96  \n",
       "2019-01-03                4603.0          3079.01  \n",
       "2019-01-04                4278.0          2856.64  \n",
       "\n",
       "[5153 rows x 7 columns]"
      ]
     },
     "execution_count": 12,
     "metadata": {},
     "output_type": "execute_result"
    }
   ],
   "source": [
    "df"
   ]
  },
  {
   "cell_type": "code",
   "execution_count": 13,
   "id": "a18131a3-dafd-480c-9063-a5e25c783b50",
   "metadata": {},
   "outputs": [
    {
     "name": "stdout",
     "output_type": "stream",
     "text": [
      "Requirement already satisfied: yfinance in c:\\anaconda\\lib\\site-packages (0.2.43)\n",
      "Requirement already satisfied: pandas>=1.3.0 in c:\\anaconda\\lib\\site-packages (from yfinance) (2.2.2)\n",
      "Requirement already satisfied: numpy>=1.16.5 in c:\\anaconda\\lib\\site-packages (from yfinance) (1.26.4)\n",
      "Requirement already satisfied: requests>=2.31 in c:\\anaconda\\lib\\site-packages (from yfinance) (2.31.0)\n",
      "Requirement already satisfied: multitasking>=0.0.7 in c:\\anaconda\\lib\\site-packages (from yfinance) (0.0.11)\n",
      "Requirement already satisfied: lxml>=4.9.1 in c:\\anaconda\\lib\\site-packages (from yfinance) (4.9.3)\n",
      "Requirement already satisfied: platformdirs>=2.0.0 in c:\\anaconda\\lib\\site-packages (from yfinance) (3.10.0)\n",
      "Requirement already satisfied: pytz>=2022.5 in c:\\anaconda\\lib\\site-packages (from yfinance) (2023.3.post1)\n",
      "Requirement already satisfied: frozendict>=2.3.4 in c:\\anaconda\\lib\\site-packages (from yfinance) (2.4.4)\n",
      "Requirement already satisfied: peewee>=3.16.2 in c:\\anaconda\\lib\\site-packages (from yfinance) (3.17.6)\n",
      "Requirement already satisfied: beautifulsoup4>=4.11.1 in c:\\anaconda\\lib\\site-packages (from yfinance) (4.12.2)\n",
      "Requirement already satisfied: html5lib>=1.1 in c:\\anaconda\\lib\\site-packages (from yfinance) (1.1)\n",
      "Requirement already satisfied: soupsieve>1.2 in c:\\anaconda\\lib\\site-packages (from beautifulsoup4>=4.11.1->yfinance) (2.5)\n",
      "Requirement already satisfied: six>=1.9 in c:\\anaconda\\lib\\site-packages (from html5lib>=1.1->yfinance) (1.16.0)\n",
      "Requirement already satisfied: webencodings in c:\\anaconda\\lib\\site-packages (from html5lib>=1.1->yfinance) (0.5.1)\n",
      "Requirement already satisfied: python-dateutil>=2.8.2 in c:\\anaconda\\lib\\site-packages (from pandas>=1.3.0->yfinance) (2.8.2)\n",
      "Requirement already satisfied: tzdata>=2022.7 in c:\\anaconda\\lib\\site-packages (from pandas>=1.3.0->yfinance) (2023.3)\n",
      "Requirement already satisfied: charset-normalizer<4,>=2 in c:\\anaconda\\lib\\site-packages (from requests>=2.31->yfinance) (2.0.4)\n",
      "Requirement already satisfied: idna<4,>=2.5 in c:\\anaconda\\lib\\site-packages (from requests>=2.31->yfinance) (3.4)\n",
      "Requirement already satisfied: urllib3<3,>=1.21.1 in c:\\anaconda\\lib\\site-packages (from requests>=2.31->yfinance) (2.0.7)\n",
      "Requirement already satisfied: certifi>=2017.4.17 in c:\\anaconda\\lib\\site-packages (from requests>=2.31->yfinance) (2024.2.2)\n"
     ]
    }
   ],
   "source": [
    "!pip install yfinance\n",
    "import yfinance as yf"
   ]
  },
  {
   "cell_type": "code",
   "execution_count": 14,
   "id": "fcfc80fd-3a30-40ab-b61c-326bff5aa5fb",
   "metadata": {},
   "outputs": [
    {
     "name": "stderr",
     "output_type": "stream",
     "text": [
      "[*********************100%***********************]  1 of 1 completed\n"
     ]
    }
   ],
   "source": [
    "df1 = yf.download('MRF.NS')"
   ]
  },
  {
   "cell_type": "code",
   "execution_count": 15,
   "id": "854b834a-c318-4248-94db-b1ca011b8f3e",
   "metadata": {},
   "outputs": [
    {
     "data": {
      "text/html": [
       "<div>\n",
       "<style scoped>\n",
       "    .dataframe tbody tr th:only-of-type {\n",
       "        vertical-align: middle;\n",
       "    }\n",
       "\n",
       "    .dataframe tbody tr th {\n",
       "        vertical-align: top;\n",
       "    }\n",
       "\n",
       "    .dataframe thead th {\n",
       "        text-align: right;\n",
       "    }\n",
       "</style>\n",
       "<table border=\"1\" class=\"dataframe\">\n",
       "  <thead>\n",
       "    <tr style=\"text-align: right;\">\n",
       "      <th></th>\n",
       "      <th>Open</th>\n",
       "      <th>High</th>\n",
       "      <th>Low</th>\n",
       "      <th>Close</th>\n",
       "      <th>Adj Close</th>\n",
       "      <th>Volume</th>\n",
       "    </tr>\n",
       "    <tr>\n",
       "      <th>Date</th>\n",
       "      <th></th>\n",
       "      <th></th>\n",
       "      <th></th>\n",
       "      <th></th>\n",
       "      <th></th>\n",
       "      <th></th>\n",
       "    </tr>\n",
       "  </thead>\n",
       "  <tbody>\n",
       "    <tr>\n",
       "      <th>2002-07-01</th>\n",
       "      <td>910.0</td>\n",
       "      <td>910.00000</td>\n",
       "      <td>880.000000</td>\n",
       "      <td>897.599976</td>\n",
       "      <td>811.283936</td>\n",
       "      <td>426</td>\n",
       "    </tr>\n",
       "    <tr>\n",
       "      <th>2002-07-02</th>\n",
       "      <td>900.0</td>\n",
       "      <td>905.00000</td>\n",
       "      <td>895.000000</td>\n",
       "      <td>903.650024</td>\n",
       "      <td>816.752502</td>\n",
       "      <td>310</td>\n",
       "    </tr>\n",
       "    <tr>\n",
       "      <th>2002-07-03</th>\n",
       "      <td>910.0</td>\n",
       "      <td>910.00000</td>\n",
       "      <td>900.000000</td>\n",
       "      <td>906.700012</td>\n",
       "      <td>819.509033</td>\n",
       "      <td>336</td>\n",
       "    </tr>\n",
       "    <tr>\n",
       "      <th>2002-07-04</th>\n",
       "      <td>920.0</td>\n",
       "      <td>925.00000</td>\n",
       "      <td>910.000000</td>\n",
       "      <td>916.799988</td>\n",
       "      <td>828.637695</td>\n",
       "      <td>591</td>\n",
       "    </tr>\n",
       "    <tr>\n",
       "      <th>2002-07-05</th>\n",
       "      <td>915.0</td>\n",
       "      <td>935.00000</td>\n",
       "      <td>910.000000</td>\n",
       "      <td>927.299988</td>\n",
       "      <td>838.127869</td>\n",
       "      <td>1623</td>\n",
       "    </tr>\n",
       "    <tr>\n",
       "      <th>...</th>\n",
       "      <td>...</td>\n",
       "      <td>...</td>\n",
       "      <td>...</td>\n",
       "      <td>...</td>\n",
       "      <td>...</td>\n",
       "      <td>...</td>\n",
       "    </tr>\n",
       "    <tr>\n",
       "      <th>2024-09-05</th>\n",
       "      <td>136250.0</td>\n",
       "      <td>136666.00000</td>\n",
       "      <td>135500.000000</td>\n",
       "      <td>136017.093750</td>\n",
       "      <td>136017.093750</td>\n",
       "      <td>3971</td>\n",
       "    </tr>\n",
       "    <tr>\n",
       "      <th>2024-09-06</th>\n",
       "      <td>136350.0</td>\n",
       "      <td>136700.00000</td>\n",
       "      <td>134042.453125</td>\n",
       "      <td>134260.750000</td>\n",
       "      <td>134260.750000</td>\n",
       "      <td>3820</td>\n",
       "    </tr>\n",
       "    <tr>\n",
       "      <th>2024-09-09</th>\n",
       "      <td>135000.0</td>\n",
       "      <td>135000.00000</td>\n",
       "      <td>132600.000000</td>\n",
       "      <td>133979.296875</td>\n",
       "      <td>133979.296875</td>\n",
       "      <td>6107</td>\n",
       "    </tr>\n",
       "    <tr>\n",
       "      <th>2024-09-10</th>\n",
       "      <td>134850.0</td>\n",
       "      <td>136359.90625</td>\n",
       "      <td>134255.656250</td>\n",
       "      <td>135759.406250</td>\n",
       "      <td>135759.406250</td>\n",
       "      <td>5084</td>\n",
       "    </tr>\n",
       "    <tr>\n",
       "      <th>2024-09-11</th>\n",
       "      <td>136220.0</td>\n",
       "      <td>136400.00000</td>\n",
       "      <td>135500.000000</td>\n",
       "      <td>135785.843750</td>\n",
       "      <td>135785.843750</td>\n",
       "      <td>498</td>\n",
       "    </tr>\n",
       "  </tbody>\n",
       "</table>\n",
       "<p>5511 rows × 6 columns</p>\n",
       "</div>"
      ],
      "text/plain": [
       "                Open          High            Low          Close  \\\n",
       "Date                                                               \n",
       "2002-07-01     910.0     910.00000     880.000000     897.599976   \n",
       "2002-07-02     900.0     905.00000     895.000000     903.650024   \n",
       "2002-07-03     910.0     910.00000     900.000000     906.700012   \n",
       "2002-07-04     920.0     925.00000     910.000000     916.799988   \n",
       "2002-07-05     915.0     935.00000     910.000000     927.299988   \n",
       "...              ...           ...            ...            ...   \n",
       "2024-09-05  136250.0  136666.00000  135500.000000  136017.093750   \n",
       "2024-09-06  136350.0  136700.00000  134042.453125  134260.750000   \n",
       "2024-09-09  135000.0  135000.00000  132600.000000  133979.296875   \n",
       "2024-09-10  134850.0  136359.90625  134255.656250  135759.406250   \n",
       "2024-09-11  136220.0  136400.00000  135500.000000  135785.843750   \n",
       "\n",
       "                Adj Close  Volume  \n",
       "Date                               \n",
       "2002-07-01     811.283936     426  \n",
       "2002-07-02     816.752502     310  \n",
       "2002-07-03     819.509033     336  \n",
       "2002-07-04     828.637695     591  \n",
       "2002-07-05     838.127869    1623  \n",
       "...                   ...     ...  \n",
       "2024-09-05  136017.093750    3971  \n",
       "2024-09-06  134260.750000    3820  \n",
       "2024-09-09  133979.296875    6107  \n",
       "2024-09-10  135759.406250    5084  \n",
       "2024-09-11  135785.843750     498  \n",
       "\n",
       "[5511 rows x 6 columns]"
      ]
     },
     "execution_count": 15,
     "metadata": {},
     "output_type": "execute_result"
    }
   ],
   "source": [
    "df1"
   ]
  },
  {
   "cell_type": "code",
   "execution_count": 17,
   "id": "e15a1a66-d032-44d6-b407-7960963c81fd",
   "metadata": {},
   "outputs": [
    {
     "data": {
      "text/plain": [
       "[<matplotlib.lines.Line2D at 0x1f77a351fd0>]"
      ]
     },
     "execution_count": 17,
     "metadata": {},
     "output_type": "execute_result"
    },
    {
     "data": {
      "image/png": "[encoded data removed]",
      "text/plain": [
       "<Figure size 1800x900 with 1 Axes>"
      ]
     },
     "metadata": {},
     "output_type": "display_data"
    }
   ],
   "source": [
    "plt.figure(figsize=(18,9))\n",
    "plt.plot(df1['Close'], label='Closing Price')"
   ]
  },
  {
   "cell_type": "code",
   "execution_count": 26,
   "id": "b7c9ca05-c978-422c-b361-7466abf65553",
   "metadata": {},
   "outputs": [],
   "source": [
    "df1=df1.dropna()"
   ]
  },
  {
   "cell_type": "code",
   "execution_count": 33,
   "id": "c8c0c380-f8cc-4a43-a979-214d6e407d11",
   "metadata": {},
   "outputs": [],
   "source": [
    "df1['Open-Close']= df1['Open']-df1['Close']"
   ]
  },
  {
   "cell_type": "code",
   "execution_count": 34,
   "id": "92fcf916-bbc7-49e0-8302-5c1b8b603de4",
   "metadata": {},
   "outputs": [],
   "source": [
    "df1['High-Low']=df1['High']-df1['Close']"
   ]
  },
  {
   "cell_type": "code",
   "execution_count": 59,
   "id": "a84d951e-65cc-4d7b-908b-e7380965bb10",
   "metadata": {},
   "outputs": [
    {
     "data": {
      "text/html": [
       "<div>\n",
       "<style scoped>\n",
       "    .dataframe tbody tr th:only-of-type {\n",
       "        vertical-align: middle;\n",
       "    }\n",
       "\n",
       "    .dataframe tbody tr th {\n",
       "        vertical-align: top;\n",
       "    }\n",
       "\n",
       "    .dataframe thead th {\n",
       "        text-align: right;\n",
       "    }\n",
       "</style>\n",
       "<table border=\"1\" class=\"dataframe\">\n",
       "  <thead>\n",
       "    <tr style=\"text-align: right;\">\n",
       "      <th></th>\n",
       "      <th>Open-Close</th>\n",
       "      <th>High-Low</th>\n",
       "    </tr>\n",
       "    <tr>\n",
       "      <th>Date</th>\n",
       "      <th></th>\n",
       "      <th></th>\n",
       "    </tr>\n",
       "  </thead>\n",
       "  <tbody>\n",
       "    <tr>\n",
       "      <th>2002-07-01</th>\n",
       "      <td>12.400024</td>\n",
       "      <td>12.400024</td>\n",
       "    </tr>\n",
       "    <tr>\n",
       "      <th>2002-07-02</th>\n",
       "      <td>-3.650024</td>\n",
       "      <td>1.349976</td>\n",
       "    </tr>\n",
       "    <tr>\n",
       "      <th>2002-07-03</th>\n",
       "      <td>3.299988</td>\n",
       "      <td>3.299988</td>\n",
       "    </tr>\n",
       "    <tr>\n",
       "      <th>2002-07-04</th>\n",
       "      <td>3.200012</td>\n",
       "      <td>8.200012</td>\n",
       "    </tr>\n",
       "    <tr>\n",
       "      <th>2002-07-05</th>\n",
       "      <td>-12.299988</td>\n",
       "      <td>7.700012</td>\n",
       "    </tr>\n",
       "    <tr>\n",
       "      <th>...</th>\n",
       "      <td>...</td>\n",
       "      <td>...</td>\n",
       "    </tr>\n",
       "    <tr>\n",
       "      <th>2024-09-05</th>\n",
       "      <td>232.906250</td>\n",
       "      <td>648.906250</td>\n",
       "    </tr>\n",
       "    <tr>\n",
       "      <th>2024-09-06</th>\n",
       "      <td>2089.250000</td>\n",
       "      <td>2439.250000</td>\n",
       "    </tr>\n",
       "    <tr>\n",
       "      <th>2024-09-09</th>\n",
       "      <td>1020.703125</td>\n",
       "      <td>1020.703125</td>\n",
       "    </tr>\n",
       "    <tr>\n",
       "      <th>2024-09-10</th>\n",
       "      <td>-909.406250</td>\n",
       "      <td>600.500000</td>\n",
       "    </tr>\n",
       "    <tr>\n",
       "      <th>2024-09-11</th>\n",
       "      <td>434.156250</td>\n",
       "      <td>614.156250</td>\n",
       "    </tr>\n",
       "  </tbody>\n",
       "</table>\n",
       "<p>5511 rows × 2 columns</p>\n",
       "</div>"
      ],
      "text/plain": [
       "             Open-Close     High-Low\n",
       "Date                                \n",
       "2002-07-01    12.400024    12.400024\n",
       "2002-07-02    -3.650024     1.349976\n",
       "2002-07-03     3.299988     3.299988\n",
       "2002-07-04     3.200012     8.200012\n",
       "2002-07-05   -12.299988     7.700012\n",
       "...                 ...          ...\n",
       "2024-09-05   232.906250   648.906250\n",
       "2024-09-06  2089.250000  2439.250000\n",
       "2024-09-09  1020.703125  1020.703125\n",
       "2024-09-10  -909.406250   600.500000\n",
       "2024-09-11   434.156250   614.156250\n",
       "\n",
       "[5511 rows x 2 columns]"
      ]
     },
     "execution_count": 59,
     "metadata": {},
     "output_type": "execute_result"
    }
   ],
   "source": [
    "x=df1[['Open-Close' , 'High-Low']]\n",
    "x"
   ]
  },
  {
   "cell_type": "code",
   "execution_count": 54,
   "id": "8d02a359-2af7-4043-b1d6-17c35c8f6e1c",
   "metadata": {},
   "outputs": [],
   "source": [
    "#creating labels\n",
    "y=np.where(df1['Close'].shift(-1) > df1['Close'], 1,-1)"
   ]
  },
  {
   "cell_type": "code",
   "execution_count": 60,
   "id": "930fea49-ac68-4101-a3fb-287c1acac61c",
   "metadata": {},
   "outputs": [
    {
     "data": {
      "text/plain": [
       "array([ 1,  1,  1, ...,  1,  1, -1])"
      ]
     },
     "execution_count": 60,
     "metadata": {},
     "output_type": "execute_result"
    }
   ],
   "source": [
    "#we will buy at +1 label and sell at -1 label\n",
    "y"
   ]
  },
  {
   "cell_type": "code",
   "execution_count": 61,
   "id": "22e911b7-9140-4a61-a610-0b99b6709e6d",
   "metadata": {},
   "outputs": [
    {
     "data": {
      "text/plain": [
       "5511"
      ]
     },
     "execution_count": 61,
     "metadata": {},
     "output_type": "execute_result"
    }
   ],
   "source": [
    "y.size"
   ]
  },
  {
   "cell_type": "code",
   "execution_count": 62,
   "id": "2192d890-fe79-4ed8-9343-ca882520bd75",
   "metadata": {},
   "outputs": [],
   "source": [
    "#we will drop last element of array y as it is unwanted\n",
    "#y=y[:-1] ------ giving error in train test splitting"
   ]
  },
  {
   "cell_type": "code",
   "execution_count": 63,
   "id": "02248885-3061-4933-b564-438f94f1f78a",
   "metadata": {},
   "outputs": [],
   "source": [
    "#y.size  ------ giving error in train test splitting"
   ]
  },
  {
   "cell_type": "code",
   "execution_count": 72,
   "id": "dcb89615-6e18-4a28-b215-36f8a5727f17",
   "metadata": {},
   "outputs": [],
   "source": [
    "#splitting data for training and testing\n",
    "from sklearn.model_selection import train_test_split\n",
    "xtrain,xtest,ytrain,ytest= train_test_split(x,y,test_size=0.20)"
   ]
  },
  {
   "cell_type": "markdown",
   "id": "1ccd3287-1a21-46e7-bc8e-fb51efb48741",
   "metadata": {},
   "source": [
    "**Implementing KNN for classification(will predict to buy or sell stock)**"
   ]
  },
  {
   "cell_type": "code",
   "execution_count": 69,
   "id": "09562812-209e-4606-9f8c-d5d81124f5f4",
   "metadata": {},
   "outputs": [],
   "source": [
    "from sklearn.neighbors import KNeighborsClassifier\n",
    "from sklearn import neighbors\n",
    "from sklearn.model_selection import GridSearchCV\n",
    "from sklearn.metrics import accuracy_score\n",
    "\n",
    "#using gridsearch to find value of K\n",
    "params = {'n_neighbors' : [2,3,4,5,6,7,8,9,10,11,12,13,14,15]}\n",
    "knn = neighbors.KNeighborsClassifier()\n",
    "model = GridSearchCV(knn,params,cv=5)"
   ]
  },
  {
   "cell_type": "code",
   "execution_count": 74,
   "id": "ae66bb6e-0e06-4684-83de-7c6c40e646b4",
   "metadata": {},
   "outputs": [
    {
     "data": {
      "text/html": [
       "<style>#sk-container-id-1 {color: black;background-color: white;}#sk-container-id-1 pre{padding: 0;}#sk-container-id-1 div.sk-toggleable {background-color: white;}#sk-container-id-1 label.sk-toggleable__label {cursor: pointer;display: block;width: 100%;margin-bottom: 0;padding: 0.3em;box-sizing: border-box;text-align: center;}#sk-container-id-1 label.sk-toggleable__label-arrow:before {content: \"▸\";float: left;margin-right: 0.25em;color: #696969;}#sk-container-id-1 label.sk-toggleable__label-arrow:hover:before {color: black;}#sk-container-id-1 div.sk-estimator:hover label.sk-toggleable__label-arrow:before {color: black;}#sk-container-id-1 div.sk-toggleable__content {max-height: 0;max-width: 0;overflow: hidden;text-align: left;background-color: #f0f8ff;}#sk-container-id-1 div.sk-toggleable__content pre {margin: 0.2em;color: black;border-radius: 0.25em;background-color: #f0f8ff;}#sk-container-id-1 input.sk-toggleable__control:checked~div.sk-toggleable__content {max-height: 200px;max-width: 100%;overflow: auto;}#sk-container-id-1 input.sk-toggleable__control:checked~label.sk-toggleable__label-arrow:before {content: \"▾\";}#sk-container-id-1 div.sk-estimator input.sk-toggleable__control:checked~label.sk-toggleable__label {background-color: #d4ebff;}#sk-container-id-1 div.sk-label input.sk-toggleable__control:checked~label.sk-toggleable__label {background-color: #d4ebff;}#sk-container-id-1 input.sk-hidden--visually {border: 0;clip: rect(1px 1px 1px 1px);clip: rect(1px, 1px, 1px, 1px);height: 1px;margin: -1px;overflow: hidden;padding: 0;position: absolute;width: 1px;}#sk-container-id-1 div.sk-estimator {font-family: monospace;background-color: #f0f8ff;border: 1px dotted black;border-radius: 0.25em;box-sizing: border-box;margin-bottom: 0.5em;}#sk-container-id-1 div.sk-estimator:hover {background-color: #d4ebff;}#sk-container-id-1 div.sk-parallel-item::after {content: \"\";width: 100%;border-bottom: 1px solid gray;flex-grow: 1;}#sk-container-id-1 div.sk-label:hover label.sk-toggleable__label {background-color: #d4ebff;}#sk-container-id-1 div.sk-serial::before {content: \"\";position: absolute;border-left: 1px solid gray;box-sizing: border-box;top: 0;bottom: 0;left: 50%;z-index: 0;}#sk-container-id-1 div.sk-serial {display: flex;flex-direction: column;align-items: center;background-color: white;padding-right: 0.2em;padding-left: 0.2em;position: relative;}#sk-container-id-1 div.sk-item {position: relative;z-index: 1;}#sk-container-id-1 div.sk-parallel {display: flex;align-items: stretch;justify-content: center;background-color: white;position: relative;}#sk-container-id-1 div.sk-item::before, #sk-container-id-1 div.sk-parallel-item::before {content: \"\";position: absolute;border-left: 1px solid gray;box-sizing: border-box;top: 0;bottom: 0;left: 50%;z-index: -1;}#sk-container-id-1 div.sk-parallel-item {display: flex;flex-direction: column;z-index: 1;position: relative;background-color: white;}#sk-container-id-1 div.sk-parallel-item:first-child::after {align-self: flex-end;width: 50%;}#sk-container-id-1 div.sk-parallel-item:last-child::after {align-self: flex-start;width: 50%;}#sk-container-id-1 div.sk-parallel-item:only-child::after {width: 0;}#sk-container-id-1 div.sk-dashed-wrapped {border: 1px dashed gray;margin: 0 0.4em 0.5em 0.4em;box-sizing: border-box;padding-bottom: 0.4em;background-color: white;}#sk-container-id-1 div.sk-label label {font-family: monospace;font-weight: bold;display: inline-block;line-height: 1.2em;}#sk-container-id-1 div.sk-label-container {text-align: center;}#sk-container-id-1 div.sk-container {/* jupyter's `normalize.less` sets `[hidden] { display: none; }` but bootstrap.min.css set `[hidden] { display: none !important; }` so we also need the `!important` here to be able to override the default hidden behavior on the sphinx rendered scikit-learn.org. See: https://github.com/scikit-learn/scikit-learn/issues/21755 */display: inline-block !important;position: relative;}#sk-container-id-1 div.sk-text-repr-fallback {display: none;}</style><div id=\"sk-container-id-1\" class=\"sk-top-container\"><div class=\"sk-text-repr-fallback\"><pre>GridSearchCV(cv=5, estimator=KNeighborsClassifier(),\n",
       "             param_grid={&#x27;n_neighbors&#x27;: [2, 3, 4, 5, 6, 7, 8, 9, 10, 11, 12, 13,\n",
       "                                         14, 15]})</pre><b>In a Jupyter environment, please rerun this cell to show the HTML representation or trust the notebook. <br />On GitHub, the HTML representation is unable to render, please try loading this page with nbviewer.org.</b></div><div class=\"sk-container\" hidden><div class=\"sk-item sk-dashed-wrapped\"><div class=\"sk-label-container\"><div class=\"sk-label sk-toggleable\"><input class=\"sk-toggleable__control sk-hidden--visually\" id=\"sk-estimator-id-1\" type=\"checkbox\" ><label for=\"sk-estimator-id-1\" class=\"sk-toggleable__label sk-toggleable__label-arrow\">GridSearchCV</label><div class=\"sk-toggleable__content\"><pre>GridSearchCV(cv=5, estimator=KNeighborsClassifier(),\n",
       "             param_grid={&#x27;n_neighbors&#x27;: [2, 3, 4, 5, 6, 7, 8, 9, 10, 11, 12, 13,\n",
       "                                         14, 15]})</pre></div></div></div><div class=\"sk-parallel\"><div class=\"sk-parallel-item\"><div class=\"sk-item\"><div class=\"sk-label-container\"><div class=\"sk-label sk-toggleable\"><input class=\"sk-toggleable__control sk-hidden--visually\" id=\"sk-estimator-id-2\" type=\"checkbox\" ><label for=\"sk-estimator-id-2\" class=\"sk-toggleable__label sk-toggleable__label-arrow\">estimator: KNeighborsClassifier</label><div class=\"sk-toggleable__content\"><pre>KNeighborsClassifier()</pre></div></div></div><div class=\"sk-serial\"><div class=\"sk-item\"><div class=\"sk-estimator sk-toggleable\"><input class=\"sk-toggleable__control sk-hidden--visually\" id=\"sk-estimator-id-3\" type=\"checkbox\" ><label for=\"sk-estimator-id-3\" class=\"sk-toggleable__label sk-toggleable__label-arrow\">KNeighborsClassifier</label><div class=\"sk-toggleable__content\"><pre>KNeighborsClassifier()</pre></div></div></div></div></div></div></div></div></div></div>"
      ],
      "text/plain": [
       "GridSearchCV(cv=5, estimator=KNeighborsClassifier(),\n",
       "             param_grid={'n_neighbors': [2, 3, 4, 5, 6, 7, 8, 9, 10, 11, 12, 13,\n",
       "                                         14, 15]})"
      ]
     },
     "execution_count": 74,
     "metadata": {},
     "output_type": "execute_result"
    }
   ],
   "source": [
    "#fitiing of model\n",
    "model.fit(xtrain,ytrain)"
   ]
  },
  {
   "cell_type": "code",
   "execution_count": 75,
   "id": "4788775c-6959-41f9-ad9f-0de0bc3baf79",
   "metadata": {},
   "outputs": [
    {
     "name": "stdout",
     "output_type": "stream",
     "text": [
      "Train data accuracy: 0.7513611615245009\n",
      "Test data accuracy: 0.4886672710788758\n"
     ]
    }
   ],
   "source": [
    "#accuracy score\n",
    "accscore_train = accuracy_score(ytrain, model.predict(xtrain))\n",
    "accscore_test = accuracy_score(ytest, model.predict(xtest))\n",
    "print('Train data accuracy:', accscore_train)\n",
    "print('Test data accuracy:', accscore_test)"
   ]
  },
  {
   "cell_type": "code",
   "execution_count": 77,
   "id": "ef961fac-90de-457a-bbb9-28d80cc36465",
   "metadata": {},
   "outputs": [
    {
     "data": {
      "text/html": [
       "<div>\n",
       "<style scoped>\n",
       "    .dataframe tbody tr th:only-of-type {\n",
       "        vertical-align: middle;\n",
       "    }\n",
       "\n",
       "    .dataframe tbody tr th {\n",
       "        vertical-align: top;\n",
       "    }\n",
       "\n",
       "    .dataframe thead th {\n",
       "        text-align: right;\n",
       "    }\n",
       "</style>\n",
       "<table border=\"1\" class=\"dataframe\">\n",
       "  <thead>\n",
       "    <tr style=\"text-align: right;\">\n",
       "      <th></th>\n",
       "      <th>Actual label</th>\n",
       "      <th>Predicted label</th>\n",
       "    </tr>\n",
       "  </thead>\n",
       "  <tbody>\n",
       "    <tr>\n",
       "      <th>0</th>\n",
       "      <td>1</td>\n",
       "      <td>-1</td>\n",
       "    </tr>\n",
       "    <tr>\n",
       "      <th>1</th>\n",
       "      <td>-1</td>\n",
       "      <td>-1</td>\n",
       "    </tr>\n",
       "    <tr>\n",
       "      <th>2</th>\n",
       "      <td>-1</td>\n",
       "      <td>-1</td>\n",
       "    </tr>\n",
       "    <tr>\n",
       "      <th>3</th>\n",
       "      <td>1</td>\n",
       "      <td>-1</td>\n",
       "    </tr>\n",
       "    <tr>\n",
       "      <th>4</th>\n",
       "      <td>-1</td>\n",
       "      <td>-1</td>\n",
       "    </tr>\n",
       "    <tr>\n",
       "      <th>5</th>\n",
       "      <td>-1</td>\n",
       "      <td>1</td>\n",
       "    </tr>\n",
       "    <tr>\n",
       "      <th>6</th>\n",
       "      <td>-1</td>\n",
       "      <td>1</td>\n",
       "    </tr>\n",
       "    <tr>\n",
       "      <th>7</th>\n",
       "      <td>-1</td>\n",
       "      <td>-1</td>\n",
       "    </tr>\n",
       "    <tr>\n",
       "      <th>8</th>\n",
       "      <td>1</td>\n",
       "      <td>-1</td>\n",
       "    </tr>\n",
       "    <tr>\n",
       "      <th>9</th>\n",
       "      <td>-1</td>\n",
       "      <td>-1</td>\n",
       "    </tr>\n",
       "    <tr>\n",
       "      <th>10</th>\n",
       "      <td>1</td>\n",
       "      <td>-1</td>\n",
       "    </tr>\n",
       "    <tr>\n",
       "      <th>11</th>\n",
       "      <td>1</td>\n",
       "      <td>1</td>\n",
       "    </tr>\n",
       "    <tr>\n",
       "      <th>12</th>\n",
       "      <td>1</td>\n",
       "      <td>-1</td>\n",
       "    </tr>\n",
       "    <tr>\n",
       "      <th>13</th>\n",
       "      <td>1</td>\n",
       "      <td>1</td>\n",
       "    </tr>\n",
       "    <tr>\n",
       "      <th>14</th>\n",
       "      <td>-1</td>\n",
       "      <td>-1</td>\n",
       "    </tr>\n",
       "    <tr>\n",
       "      <th>15</th>\n",
       "      <td>1</td>\n",
       "      <td>1</td>\n",
       "    </tr>\n",
       "    <tr>\n",
       "      <th>16</th>\n",
       "      <td>1</td>\n",
       "      <td>1</td>\n",
       "    </tr>\n",
       "    <tr>\n",
       "      <th>17</th>\n",
       "      <td>-1</td>\n",
       "      <td>1</td>\n",
       "    </tr>\n",
       "    <tr>\n",
       "      <th>18</th>\n",
       "      <td>1</td>\n",
       "      <td>-1</td>\n",
       "    </tr>\n",
       "    <tr>\n",
       "      <th>19</th>\n",
       "      <td>1</td>\n",
       "      <td>-1</td>\n",
       "    </tr>\n",
       "  </tbody>\n",
       "</table>\n",
       "</div>"
      ],
      "text/plain": [
       "    Actual label  Predicted label\n",
       "0              1               -1\n",
       "1             -1               -1\n",
       "2             -1               -1\n",
       "3              1               -1\n",
       "4             -1               -1\n",
       "5             -1                1\n",
       "6             -1                1\n",
       "7             -1               -1\n",
       "8              1               -1\n",
       "9             -1               -1\n",
       "10             1               -1\n",
       "11             1                1\n",
       "12             1               -1\n",
       "13             1                1\n",
       "14            -1               -1\n",
       "15             1                1\n",
       "16             1                1\n",
       "17            -1                1\n",
       "18             1               -1\n",
       "19             1               -1"
      ]
     },
     "execution_count": 77,
     "metadata": {},
     "output_type": "execute_result"
    }
   ],
   "source": [
    "#sample output prediction of this model\n",
    "prediction_classification = model.predict(xtest)\n",
    "actual_prediction_df = pd.DataFrame({'Actual label':ytest, 'Predicted label':prediction_classification})\n",
    "actual_prediction_df.head(20)"
   ]
  },
  {
   "cell_type": "markdown",
   "id": "30941bf1-1e5d-41ea-a77e-39bc27797936",
   "metadata": {},
   "source": [
    "**Implementing KNN for Regression (will predict the closing price of the stock)**"
   ]
  },
  {
   "cell_type": "code",
   "execution_count": 78,
   "id": "86bd8cfd-9897-456e-b07d-5759ae0af29f",
   "metadata": {},
   "outputs": [
    {
     "data": {
      "text/plain": [
       "Date\n",
       "2002-07-01       897.599976\n",
       "2002-07-02       903.650024\n",
       "2002-07-03       906.700012\n",
       "2002-07-04       916.799988\n",
       "2002-07-05       927.299988\n",
       "                  ...      \n",
       "2024-09-05    136017.093750\n",
       "2024-09-06    134260.750000\n",
       "2024-09-09    133979.296875\n",
       "2024-09-10    135759.406250\n",
       "2024-09-11    135785.843750\n",
       "Name: Close, Length: 5511, dtype: float64"
      ]
     },
     "execution_count": 78,
     "metadata": {},
     "output_type": "execute_result"
    }
   ],
   "source": [
    "#creating label\n",
    "yreg= df1['Close']\n",
    "yreg"
   ]
  },
  {
   "cell_type": "code",
   "execution_count": 79,
   "id": "16b1da5b-0ee2-4df0-aa0e-1a502c1ebb4b",
   "metadata": {},
   "outputs": [],
   "source": [
    "from sklearn.neighbors import KNeighborsRegressor\n",
    "from sklearn import neighbors"
   ]
  },
  {
   "cell_type": "code",
   "execution_count": 80,
   "id": "04657a0d-f4b5-4e39-96e7-ccab92f51e99",
   "metadata": {},
   "outputs": [],
   "source": [
    "#splitting of data into test and train data\n",
    "xtrainreg,xtestreg,ytrainreg,ytestreg= train_test_split(x,yreg,test_size=0.20)"
   ]
  },
  {
   "cell_type": "code",
   "execution_count": 82,
   "id": "98d6d267-8abb-4efb-9293-e5696e54c317",
   "metadata": {},
   "outputs": [],
   "source": [
    "#using gridsearch to find the best parameter of k\n",
    "paramsreg = {'n_neighbors' : [2,3,4,5,6,7,8,9,10,11,12,13,14,15]}\n",
    "knnreg = neighbors.KNeighborsRegressor()\n",
    "modelreg = GridSearchCV(knnreg,paramsreg,cv=5)"
   ]
  },
  {
   "cell_type": "code",
   "execution_count": 83,
   "id": "80415615-8f58-4306-99d2-1d00a113231c",
   "metadata": {},
   "outputs": [
    {
     "data": {
      "text/html": [
       "<style>#sk-container-id-2 {color: black;background-color: white;}#sk-container-id-2 pre{padding: 0;}#sk-container-id-2 div.sk-toggleable {background-color: white;}#sk-container-id-2 label.sk-toggleable__label {cursor: pointer;display: block;width: 100%;margin-bottom: 0;padding: 0.3em;box-sizing: border-box;text-align: center;}#sk-container-id-2 label.sk-toggleable__label-arrow:before {content: \"▸\";float: left;margin-right: 0.25em;color: #696969;}#sk-container-id-2 label.sk-toggleable__label-arrow:hover:before {color: black;}#sk-container-id-2 div.sk-estimator:hover label.sk-toggleable__label-arrow:before {color: black;}#sk-container-id-2 div.sk-toggleable__content {max-height: 0;max-width: 0;overflow: hidden;text-align: left;background-color: #f0f8ff;}#sk-container-id-2 div.sk-toggleable__content pre {margin: 0.2em;color: black;border-radius: 0.25em;background-color: #f0f8ff;}#sk-container-id-2 input.sk-toggleable__control:checked~div.sk-toggleable__content {max-height: 200px;max-width: 100%;overflow: auto;}#sk-container-id-2 input.sk-toggleable__control:checked~label.sk-toggleable__label-arrow:before {content: \"▾\";}#sk-container-id-2 div.sk-estimator input.sk-toggleable__control:checked~label.sk-toggleable__label {background-color: #d4ebff;}#sk-container-id-2 div.sk-label input.sk-toggleable__control:checked~label.sk-toggleable__label {background-color: #d4ebff;}#sk-container-id-2 input.sk-hidden--visually {border: 0;clip: rect(1px 1px 1px 1px);clip: rect(1px, 1px, 1px, 1px);height: 1px;margin: -1px;overflow: hidden;padding: 0;position: absolute;width: 1px;}#sk-container-id-2 div.sk-estimator {font-family: monospace;background-color: #f0f8ff;border: 1px dotted black;border-radius: 0.25em;box-sizing: border-box;margin-bottom: 0.5em;}#sk-container-id-2 div.sk-estimator:hover {background-color: #d4ebff;}#sk-container-id-2 div.sk-parallel-item::after {content: \"\";width: 100%;border-bottom: 1px solid gray;flex-grow: 1;}#sk-container-id-2 div.sk-label:hover label.sk-toggleable__label {background-color: #d4ebff;}#sk-container-id-2 div.sk-serial::before {content: \"\";position: absolute;border-left: 1px solid gray;box-sizing: border-box;top: 0;bottom: 0;left: 50%;z-index: 0;}#sk-container-id-2 div.sk-serial {display: flex;flex-direction: column;align-items: center;background-color: white;padding-right: 0.2em;padding-left: 0.2em;position: relative;}#sk-container-id-2 div.sk-item {position: relative;z-index: 1;}#sk-container-id-2 div.sk-parallel {display: flex;align-items: stretch;justify-content: center;background-color: white;position: relative;}#sk-container-id-2 div.sk-item::before, #sk-container-id-2 div.sk-parallel-item::before {content: \"\";position: absolute;border-left: 1px solid gray;box-sizing: border-box;top: 0;bottom: 0;left: 50%;z-index: -1;}#sk-container-id-2 div.sk-parallel-item {display: flex;flex-direction: column;z-index: 1;position: relative;background-color: white;}#sk-container-id-2 div.sk-parallel-item:first-child::after {align-self: flex-end;width: 50%;}#sk-container-id-2 div.sk-parallel-item:last-child::after {align-self: flex-start;width: 50%;}#sk-container-id-2 div.sk-parallel-item:only-child::after {width: 0;}#sk-container-id-2 div.sk-dashed-wrapped {border: 1px dashed gray;margin: 0 0.4em 0.5em 0.4em;box-sizing: border-box;padding-bottom: 0.4em;background-color: white;}#sk-container-id-2 div.sk-label label {font-family: monospace;font-weight: bold;display: inline-block;line-height: 1.2em;}#sk-container-id-2 div.sk-label-container {text-align: center;}#sk-container-id-2 div.sk-container {/* jupyter's `normalize.less` sets `[hidden] { display: none; }` but bootstrap.min.css set `[hidden] { display: none !important; }` so we also need the `!important` here to be able to override the default hidden behavior on the sphinx rendered scikit-learn.org. See: https://github.com/scikit-learn/scikit-learn/issues/21755 */display: inline-block !important;position: relative;}#sk-container-id-2 div.sk-text-repr-fallback {display: none;}</style><div id=\"sk-container-id-2\" class=\"sk-top-container\"><div class=\"sk-text-repr-fallback\"><pre>GridSearchCV(cv=5, estimator=KNeighborsRegressor(),\n",
       "             param_grid={&#x27;n_neighbors&#x27;: [2, 3, 4, 5, 6, 7, 8, 9, 10, 11, 12, 13,\n",
       "                                         14, 15]})</pre><b>In a Jupyter environment, please rerun this cell to show the HTML representation or trust the notebook. <br />On GitHub, the HTML representation is unable to render, please try loading this page with nbviewer.org.</b></div><div class=\"sk-container\" hidden><div class=\"sk-item sk-dashed-wrapped\"><div class=\"sk-label-container\"><div class=\"sk-label sk-toggleable\"><input class=\"sk-toggleable__control sk-hidden--visually\" id=\"sk-estimator-id-4\" type=\"checkbox\" ><label for=\"sk-estimator-id-4\" class=\"sk-toggleable__label sk-toggleable__label-arrow\">GridSearchCV</label><div class=\"sk-toggleable__content\"><pre>GridSearchCV(cv=5, estimator=KNeighborsRegressor(),\n",
       "             param_grid={&#x27;n_neighbors&#x27;: [2, 3, 4, 5, 6, 7, 8, 9, 10, 11, 12, 13,\n",
       "                                         14, 15]})</pre></div></div></div><div class=\"sk-parallel\"><div class=\"sk-parallel-item\"><div class=\"sk-item\"><div class=\"sk-label-container\"><div class=\"sk-label sk-toggleable\"><input class=\"sk-toggleable__control sk-hidden--visually\" id=\"sk-estimator-id-5\" type=\"checkbox\" ><label for=\"sk-estimator-id-5\" class=\"sk-toggleable__label sk-toggleable__label-arrow\">estimator: KNeighborsRegressor</label><div class=\"sk-toggleable__content\"><pre>KNeighborsRegressor()</pre></div></div></div><div class=\"sk-serial\"><div class=\"sk-item\"><div class=\"sk-estimator sk-toggleable\"><input class=\"sk-toggleable__control sk-hidden--visually\" id=\"sk-estimator-id-6\" type=\"checkbox\" ><label for=\"sk-estimator-id-6\" class=\"sk-toggleable__label sk-toggleable__label-arrow\">KNeighborsRegressor</label><div class=\"sk-toggleable__content\"><pre>KNeighborsRegressor()</pre></div></div></div></div></div></div></div></div></div></div>"
      ],
      "text/plain": [
       "GridSearchCV(cv=5, estimator=KNeighborsRegressor(),\n",
       "             param_grid={'n_neighbors': [2, 3, 4, 5, 6, 7, 8, 9, 10, 11, 12, 13,\n",
       "                                         14, 15]})"
      ]
     },
     "execution_count": 83,
     "metadata": {},
     "output_type": "execute_result"
    }
   ],
   "source": [
    "#model fitting\n",
    "modelreg.fit(xtrainreg,ytrainreg)"
   ]
  },
  {
   "cell_type": "code",
   "execution_count": 86,
   "id": "394db417-fe3c-47af-ad91-9ecf8d444804",
   "metadata": {},
   "outputs": [
    {
     "data": {
      "text/plain": [
       "array([ 1916.88666992,  5355.58334147, 53798.95061849, ...,\n",
       "       60221.18671875,  7030.88002116,   886.97333984])"
      ]
     },
     "execution_count": 86,
     "metadata": {},
     "output_type": "execute_result"
    }
   ],
   "source": [
    "prediction_regression= modelreg.predict(xtestreg)\n",
    "prediction_regression"
   ]
  },
  {
   "cell_type": "code",
   "execution_count": 87,
   "id": "e4690ee2-dded-49a6-bcc9-dd809a8dcab2",
   "metadata": {},
   "outputs": [
    {
     "data": {
      "text/html": [
       "<div>\n",
       "<style scoped>\n",
       "    .dataframe tbody tr th:only-of-type {\n",
       "        vertical-align: middle;\n",
       "    }\n",
       "\n",
       "    .dataframe tbody tr th {\n",
       "        vertical-align: top;\n",
       "    }\n",
       "\n",
       "    .dataframe thead th {\n",
       "        text-align: right;\n",
       "    }\n",
       "</style>\n",
       "<table border=\"1\" class=\"dataframe\">\n",
       "  <thead>\n",
       "    <tr style=\"text-align: right;\">\n",
       "      <th></th>\n",
       "      <th>Actual close</th>\n",
       "      <th>Predicted close</th>\n",
       "    </tr>\n",
       "    <tr>\n",
       "      <th>Date</th>\n",
       "      <th></th>\n",
       "      <th></th>\n",
       "    </tr>\n",
       "  </thead>\n",
       "  <tbody>\n",
       "    <tr>\n",
       "      <th>2005-04-21</th>\n",
       "      <td>2698.699951</td>\n",
       "      <td>1916.886670</td>\n",
       "    </tr>\n",
       "    <tr>\n",
       "      <th>2003-05-05</th>\n",
       "      <td>1112.849976</td>\n",
       "      <td>5355.583341</td>\n",
       "    </tr>\n",
       "    <tr>\n",
       "      <th>2014-12-15</th>\n",
       "      <td>37880.148438</td>\n",
       "      <td>53798.950618</td>\n",
       "    </tr>\n",
       "    <tr>\n",
       "      <th>2015-01-14</th>\n",
       "      <td>38235.351562</td>\n",
       "      <td>18871.016536</td>\n",
       "    </tr>\n",
       "    <tr>\n",
       "      <th>2014-05-09</th>\n",
       "      <td>21417.199219</td>\n",
       "      <td>6396.153296</td>\n",
       "    </tr>\n",
       "    <tr>\n",
       "      <th>...</th>\n",
       "      <td>...</td>\n",
       "      <td>...</td>\n",
       "    </tr>\n",
       "    <tr>\n",
       "      <th>2003-10-09</th>\n",
       "      <td>1751.400024</td>\n",
       "      <td>3599.070020</td>\n",
       "    </tr>\n",
       "    <tr>\n",
       "      <th>2006-09-06</th>\n",
       "      <td>3836.449951</td>\n",
       "      <td>3431.866650</td>\n",
       "    </tr>\n",
       "    <tr>\n",
       "      <th>2017-07-04</th>\n",
       "      <td>70350.296875</td>\n",
       "      <td>60221.186719</td>\n",
       "    </tr>\n",
       "    <tr>\n",
       "      <th>2011-01-31</th>\n",
       "      <td>6059.200195</td>\n",
       "      <td>7030.880021</td>\n",
       "    </tr>\n",
       "    <tr>\n",
       "      <th>2002-11-21</th>\n",
       "      <td>844.000000</td>\n",
       "      <td>886.973340</td>\n",
       "    </tr>\n",
       "  </tbody>\n",
       "</table>\n",
       "<p>1103 rows × 2 columns</p>\n",
       "</div>"
      ],
      "text/plain": [
       "            Actual close  Predicted close\n",
       "Date                                     \n",
       "2005-04-21   2698.699951      1916.886670\n",
       "2003-05-05   1112.849976      5355.583341\n",
       "2014-12-15  37880.148438     53798.950618\n",
       "2015-01-14  38235.351562     18871.016536\n",
       "2014-05-09  21417.199219      6396.153296\n",
       "...                  ...              ...\n",
       "2003-10-09   1751.400024      3599.070020\n",
       "2006-09-06   3836.449951      3431.866650\n",
       "2017-07-04  70350.296875     60221.186719\n",
       "2011-01-31   6059.200195      7030.880021\n",
       "2002-11-21    844.000000       886.973340\n",
       "\n",
       "[1103 rows x 2 columns]"
      ]
     },
     "execution_count": 87,
     "metadata": {},
     "output_type": "execute_result"
    }
   ],
   "source": [
    "actual_regprediction_df= pd.DataFrame({'Actual close' :ytestreg, 'Predicted close' : prediction_regression})\n",
    "actual_regprediction_df"
   ]
  },
  {
   "cell_type": "code",
   "execution_count": null,
   "id": "7ec7d80b-f4d2-4074-8cc8-eb5cbd81a8d2",
   "metadata": {},
   "outputs": [],
   "source": []
  }
 ],
 "metadata": {
  "kernelspec": {
   "display_name": "Python 3 (ipykernel)",
   "language": "python",
   "name": "python3"
  },
  "language_info": {
   "codemirror_mode": {
    "name": "ipython",
    "version": 3
   },
   "file_extension": ".py",
   "mimetype": "text/x-python",
   "name": "python",
   "nbconvert_exporter": "python",
   "pygments_lexer": "ipython3",
   "version": "3.11.7"
  }
 },
 "nbformat": 4,
 "nbformat_minor": 5
}
